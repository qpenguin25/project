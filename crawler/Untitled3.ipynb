{
 "cells": [
  {
   "cell_type": "code",
   "execution_count": 146,
   "metadata": {
    "collapsed": false,
    "scrolled": true
   },
   "outputs": [
    {
     "name": "stdout",
     "output_type": "stream",
     "text": [
      "[ObjectId('585d138a3f3dfa10042eae3a'), ObjectId('585d138a3f3dfa10042eae3b'), ObjectId('585d138a3f3dfa10042eae3c'), ObjectId('585d138a3f3dfa10042eae3d'), ObjectId('585d138a3f3dfa10042eae3e'), ObjectId('585d138a3f3dfa10042eae3f'), ObjectId('585d138a3f3dfa10042eae40'), ObjectId('585d138a3f3dfa10042eae41'), ObjectId('585d138a3f3dfa10042eae42'), ObjectId('585d138a3f3dfa10042eae43'), ObjectId('585d138a3f3dfa10042eae44'), ObjectId('585d138a3f3dfa10042eae45'), ObjectId('585d138a3f3dfa10042eae46'), ObjectId('585d138a3f3dfa10042eae47'), ObjectId('585d138a3f3dfa10042eae48'), ObjectId('585d138a3f3dfa10042eae49'), ObjectId('585d138a3f3dfa10042eae4a'), ObjectId('585d138a3f3dfa10042eae4b'), ObjectId('585d138a3f3dfa10042eae4c'), ObjectId('585d138a3f3dfa10042eae4d'), ObjectId('585d138a3f3dfa10042eae4e'), ObjectId('585d138a3f3dfa10042eae4f'), ObjectId('585d138a3f3dfa10042eae50'), ObjectId('585d138a3f3dfa10042eae51'), ObjectId('585d138a3f3dfa10042eae52'), ObjectId('585d138a3f3dfa10042eae53'), ObjectId('585d138a3f3dfa10042eae54'), ObjectId('585d138a3f3dfa10042eae55'), ObjectId('585d138a3f3dfa10042eae56'), ObjectId('585d138a3f3dfa10042eae57'), ObjectId('585d138a3f3dfa10042eae58'), ObjectId('585d138a3f3dfa10042eae59'), ObjectId('585d138a3f3dfa10042eae5a'), ObjectId('585d138a3f3dfa10042eae5b'), ObjectId('585d138a3f3dfa10042eae5c'), ObjectId('585d138a3f3dfa10042eae5d'), ObjectId('585d138a3f3dfa10042eae5e'), ObjectId('585d138a3f3dfa10042eae5f'), ObjectId('585d138a3f3dfa10042eae60'), ObjectId('585d138a3f3dfa10042eae61'), ObjectId('585d138a3f3dfa10042eae62'), ObjectId('585d138a3f3dfa10042eae63'), ObjectId('585d138a3f3dfa10042eae64'), ObjectId('585d138a3f3dfa10042eae65'), ObjectId('585d138a3f3dfa10042eae66'), ObjectId('585d138a3f3dfa10042eae67'), ObjectId('585d138a3f3dfa10042eae68'), ObjectId('585d138a3f3dfa10042eae69'), ObjectId('585d138a3f3dfa10042eae6a'), ObjectId('585d138a3f3dfa10042eae6b'), ObjectId('585d138a3f3dfa10042eae6c'), ObjectId('585d138a3f3dfa10042eae6d'), ObjectId('585d138a3f3dfa10042eae6e'), ObjectId('585d138a3f3dfa10042eae6f'), ObjectId('585d138a3f3dfa10042eae70'), ObjectId('585d138a3f3dfa10042eae71'), ObjectId('585d138a3f3dfa10042eae72'), ObjectId('585d138a3f3dfa10042eae73'), ObjectId('585d138a3f3dfa10042eae74'), ObjectId('585d138a3f3dfa10042eae75'), ObjectId('585d138a3f3dfa10042eae76'), ObjectId('585d138a3f3dfa10042eae77'), ObjectId('585d138a3f3dfa10042eae78'), ObjectId('585d138a3f3dfa10042eae79'), ObjectId('585d138a3f3dfa10042eae7a'), ObjectId('585d138a3f3dfa10042eae7b'), ObjectId('585d138a3f3dfa10042eae7c'), ObjectId('585d138a3f3dfa10042eae7d'), ObjectId('585d138a3f3dfa10042eae7e'), ObjectId('585d138a3f3dfa10042eae7f'), ObjectId('585d138a3f3dfa10042eae80'), ObjectId('585d138a3f3dfa10042eae81'), ObjectId('585d138a3f3dfa10042eae82'), ObjectId('585d138a3f3dfa10042eae83'), ObjectId('585d138a3f3dfa10042eae84'), ObjectId('585d138a3f3dfa10042eae85'), ObjectId('585d138a3f3dfa10042eae86'), ObjectId('585d138a3f3dfa10042eae87'), ObjectId('585d138a3f3dfa10042eae88'), ObjectId('585d138a3f3dfa10042eae89'), ObjectId('585d138a3f3dfa10042eae8a'), ObjectId('585d138a3f3dfa10042eae8b'), ObjectId('585d138a3f3dfa10042eae8c'), ObjectId('585d138a3f3dfa10042eae8d'), ObjectId('585d138a3f3dfa10042eae8e'), ObjectId('585d138a3f3dfa10042eae8f'), ObjectId('585d138a3f3dfa10042eae90'), ObjectId('585d138a3f3dfa10042eae91'), ObjectId('585d138a3f3dfa10042eae92'), ObjectId('585d138a3f3dfa10042eae93'), ObjectId('585d138a3f3dfa10042eae94'), ObjectId('585d138a3f3dfa10042eae95'), ObjectId('585d138a3f3dfa10042eae96'), ObjectId('585d138a3f3dfa10042eae97'), ObjectId('585d138a3f3dfa10042eae98'), ObjectId('585d138a3f3dfa10042eae99'), ObjectId('585d138a3f3dfa10042eae9a'), ObjectId('585d138a3f3dfa10042eae9b'), ObjectId('585d138a3f3dfa10042eae9c'), ObjectId('585d138a3f3dfa10042eae9d'), ObjectId('585d138a3f3dfa10042eae9e'), ObjectId('585d138a3f3dfa10042eae9f'), ObjectId('585d138a3f3dfa10042eaea0'), ObjectId('585d138a3f3dfa10042eaea1'), ObjectId('585d138a3f3dfa10042eaea2'), ObjectId('585d138a3f3dfa10042eaea3'), ObjectId('585d138a3f3dfa10042eaea4'), ObjectId('585d138a3f3dfa10042eaea5'), ObjectId('585d138a3f3dfa10042eaea6'), ObjectId('585d138a3f3dfa10042eaea7'), ObjectId('585d138a3f3dfa10042eaea8'), ObjectId('585d138a3f3dfa10042eaea9'), ObjectId('585d138a3f3dfa10042eaeaa'), ObjectId('585d138a3f3dfa10042eaeab'), ObjectId('585d138a3f3dfa10042eaeac'), ObjectId('585d138a3f3dfa10042eaead'), ObjectId('585d138a3f3dfa10042eaeae'), ObjectId('585d138a3f3dfa10042eaeaf'), ObjectId('585d138a3f3dfa10042eaeb0'), ObjectId('585d138a3f3dfa10042eaeb1'), ObjectId('585d138a3f3dfa10042eaeb2'), ObjectId('585d138a3f3dfa10042eaeb3'), ObjectId('585d138a3f3dfa10042eaeb4'), ObjectId('585d138a3f3dfa10042eaeb5'), ObjectId('585d138a3f3dfa10042eaeb6'), ObjectId('585d138a3f3dfa10042eaeb7'), ObjectId('585d138a3f3dfa10042eaeb8'), ObjectId('585d138a3f3dfa10042eaeb9'), ObjectId('585d138a3f3dfa10042eaeba'), ObjectId('585d138a3f3dfa10042eaebb'), ObjectId('585d138a3f3dfa10042eaebc'), ObjectId('585d138a3f3dfa10042eaebd'), ObjectId('585d138a3f3dfa10042eaebe'), ObjectId('585d138a3f3dfa10042eaebf'), ObjectId('585d138a3f3dfa10042eaec0'), ObjectId('585d138a3f3dfa10042eaec1'), ObjectId('585d138a3f3dfa10042eaec2'), ObjectId('585d138a3f3dfa10042eaec3'), ObjectId('585d138a3f3dfa10042eaec4'), ObjectId('585d138a3f3dfa10042eaec5'), ObjectId('585d138a3f3dfa10042eaec6'), ObjectId('585d138a3f3dfa10042eaec7'), ObjectId('585d138a3f3dfa10042eaec8'), ObjectId('585d138a3f3dfa10042eaec9'), ObjectId('585d138a3f3dfa10042eaeca'), ObjectId('585d138a3f3dfa10042eaecb'), ObjectId('585d138a3f3dfa10042eaecc'), ObjectId('585d138a3f3dfa10042eaecd'), ObjectId('585d138a3f3dfa10042eaece'), ObjectId('585d138a3f3dfa10042eaecf'), ObjectId('585d138a3f3dfa10042eaed0'), ObjectId('585d138a3f3dfa10042eaed1'), ObjectId('585d138a3f3dfa10042eaed2'), ObjectId('585d138a3f3dfa10042eaed3'), ObjectId('585d138a3f3dfa10042eaed4'), ObjectId('585d138a3f3dfa10042eaed5'), ObjectId('585d138a3f3dfa10042eaed6'), ObjectId('585d138a3f3dfa10042eaed7'), ObjectId('585d138a3f3dfa10042eaed8'), ObjectId('585d138a3f3dfa10042eaed9'), ObjectId('585d138a3f3dfa10042eaeda'), ObjectId('585d138a3f3dfa10042eaedb'), ObjectId('585d138a3f3dfa10042eaedc'), ObjectId('585d138a3f3dfa10042eaedd'), ObjectId('585d138a3f3dfa10042eaede'), ObjectId('585d138a3f3dfa10042eaedf'), ObjectId('585d138a3f3dfa10042eaee0'), ObjectId('585d138a3f3dfa10042eaee1'), ObjectId('585d138a3f3dfa10042eaee2'), ObjectId('585d138a3f3dfa10042eaee3'), ObjectId('585d138a3f3dfa10042eaee4'), ObjectId('585d138a3f3dfa10042eaee5'), ObjectId('585d138a3f3dfa10042eaee6'), ObjectId('585d138a3f3dfa10042eaee7'), ObjectId('585d138a3f3dfa10042eaee8'), ObjectId('585d138a3f3dfa10042eaee9'), ObjectId('585d138a3f3dfa10042eaeea'), ObjectId('585d138a3f3dfa10042eaeeb'), ObjectId('585d138a3f3dfa10042eaeec'), ObjectId('585d138a3f3dfa10042eaeed'), ObjectId('585d138a3f3dfa10042eaeee'), ObjectId('585d138a3f3dfa10042eaeef'), ObjectId('585d138a3f3dfa10042eaef0'), ObjectId('585d138a3f3dfa10042eaef1'), ObjectId('585d138a3f3dfa10042eaef2'), ObjectId('585d138a3f3dfa10042eaef3'), ObjectId('585d138a3f3dfa10042eaef4'), ObjectId('585d138a3f3dfa10042eaef5'), ObjectId('585d138a3f3dfa10042eaef6'), ObjectId('585d138a3f3dfa10042eaef7'), ObjectId('585d138a3f3dfa10042eaef8'), ObjectId('585d138a3f3dfa10042eaef9'), ObjectId('585d138a3f3dfa10042eaefa'), ObjectId('585d138a3f3dfa10042eaefb'), ObjectId('585d138a3f3dfa10042eaefc'), ObjectId('585d138a3f3dfa10042eaefd'), ObjectId('585d138a3f3dfa10042eaefe'), ObjectId('585d138a3f3dfa10042eaeff'), ObjectId('585d138a3f3dfa10042eaf00'), ObjectId('585d138a3f3dfa10042eaf01'), ObjectId('585d138a3f3dfa10042eaf02'), ObjectId('585d138a3f3dfa10042eaf03'), ObjectId('585d138a3f3dfa10042eaf04'), ObjectId('585d138a3f3dfa10042eaf05'), ObjectId('585d138a3f3dfa10042eaf06'), ObjectId('585d138a3f3dfa10042eaf07'), ObjectId('585d138a3f3dfa10042eaf08'), ObjectId('585d138a3f3dfa10042eaf09'), ObjectId('585d138a3f3dfa10042eaf0a'), ObjectId('585d138a3f3dfa10042eaf0b'), ObjectId('585d138a3f3dfa10042eaf0c'), ObjectId('585d138a3f3dfa10042eaf0d'), ObjectId('585d138a3f3dfa10042eaf0e'), ObjectId('585d138a3f3dfa10042eaf0f'), ObjectId('585d138a3f3dfa10042eaf10'), ObjectId('585d138a3f3dfa10042eaf11'), ObjectId('585d138a3f3dfa10042eaf12'), ObjectId('585d138a3f3dfa10042eaf13'), ObjectId('585d138a3f3dfa10042eaf14'), ObjectId('585d138a3f3dfa10042eaf15'), ObjectId('585d138a3f3dfa10042eaf16'), ObjectId('585d138a3f3dfa10042eaf17'), ObjectId('585d138a3f3dfa10042eaf18'), ObjectId('585d138a3f3dfa10042eaf19'), ObjectId('585d138a3f3dfa10042eaf1a'), ObjectId('585d138a3f3dfa10042eaf1b'), ObjectId('585d138a3f3dfa10042eaf1c'), ObjectId('585d138a3f3dfa10042eaf1d'), ObjectId('585d138a3f3dfa10042eaf1e'), ObjectId('585d138a3f3dfa10042eaf1f'), ObjectId('585d138a3f3dfa10042eaf20'), ObjectId('585d138a3f3dfa10042eaf21'), ObjectId('585d138a3f3dfa10042eaf22'), ObjectId('585d138a3f3dfa10042eaf23'), ObjectId('585d138a3f3dfa10042eaf24'), ObjectId('585d138a3f3dfa10042eaf25'), ObjectId('585d138a3f3dfa10042eaf26'), ObjectId('585d138a3f3dfa10042eaf27'), ObjectId('585d138a3f3dfa10042eaf28'), ObjectId('585d138a3f3dfa10042eaf29'), ObjectId('585d138a3f3dfa10042eaf2a'), ObjectId('585d138a3f3dfa10042eaf2b'), ObjectId('585d138a3f3dfa10042eaf2c'), ObjectId('585d138a3f3dfa10042eaf2d'), ObjectId('585d138a3f3dfa10042eaf2e'), ObjectId('585d138a3f3dfa10042eaf2f'), ObjectId('585d138a3f3dfa10042eaf30'), ObjectId('585d138a3f3dfa10042eaf31'), ObjectId('585d138a3f3dfa10042eaf32'), ObjectId('585d138a3f3dfa10042eaf33'), ObjectId('585d138a3f3dfa10042eaf34'), ObjectId('585d138a3f3dfa10042eaf35'), ObjectId('585d138a3f3dfa10042eaf36'), ObjectId('585d138a3f3dfa10042eaf37'), ObjectId('585d138a3f3dfa10042eaf38'), ObjectId('585d138a3f3dfa10042eaf39'), ObjectId('585d138a3f3dfa10042eaf3a'), ObjectId('585d138a3f3dfa10042eaf3b'), ObjectId('585d138a3f3dfa10042eaf3c'), ObjectId('585d138a3f3dfa10042eaf3d'), ObjectId('585d138a3f3dfa10042eaf3e'), ObjectId('585d138a3f3dfa10042eaf3f'), ObjectId('585d138a3f3dfa10042eaf40'), ObjectId('585d138a3f3dfa10042eaf41'), ObjectId('585d138a3f3dfa10042eaf42'), ObjectId('585d138a3f3dfa10042eaf43'), ObjectId('585d138a3f3dfa10042eaf44'), ObjectId('585d138a3f3dfa10042eaf45'), ObjectId('585d138a3f3dfa10042eaf46'), ObjectId('585d138a3f3dfa10042eaf47'), ObjectId('585d138a3f3dfa10042eaf48'), ObjectId('585d138a3f3dfa10042eaf49'), ObjectId('585d138a3f3dfa10042eaf4a'), ObjectId('585d138a3f3dfa10042eaf4b'), ObjectId('585d138a3f3dfa10042eaf4c'), ObjectId('585d138a3f3dfa10042eaf4d'), ObjectId('585d138a3f3dfa10042eaf4e'), ObjectId('585d138a3f3dfa10042eaf4f'), ObjectId('585d138a3f3dfa10042eaf50'), ObjectId('585d138a3f3dfa10042eaf51'), ObjectId('585d138a3f3dfa10042eaf52'), ObjectId('585d138a3f3dfa10042eaf53'), ObjectId('585d138a3f3dfa10042eaf54'), ObjectId('585d138a3f3dfa10042eaf55'), ObjectId('585d138a3f3dfa10042eaf56'), ObjectId('585d138a3f3dfa10042eaf57'), ObjectId('585d138a3f3dfa10042eaf58'), ObjectId('585d138a3f3dfa10042eaf59'), ObjectId('585d138a3f3dfa10042eaf5a'), ObjectId('585d138a3f3dfa10042eaf5b'), ObjectId('585d138a3f3dfa10042eaf5c'), ObjectId('585d138a3f3dfa10042eaf5d'), ObjectId('585d138a3f3dfa10042eaf5e'), ObjectId('585d138a3f3dfa10042eaf5f'), ObjectId('585d138a3f3dfa10042eaf60'), ObjectId('585d138a3f3dfa10042eaf61'), ObjectId('585d138a3f3dfa10042eaf62'), ObjectId('585d138a3f3dfa10042eaf63'), ObjectId('585d138a3f3dfa10042eaf64'), ObjectId('585d138a3f3dfa10042eaf65'), ObjectId('585d138a3f3dfa10042eaf66'), ObjectId('585d138a3f3dfa10042eaf67'), ObjectId('585d138a3f3dfa10042eaf68'), ObjectId('585d138a3f3dfa10042eaf69'), ObjectId('585d138a3f3dfa10042eaf6a'), ObjectId('585d138a3f3dfa10042eaf6b'), ObjectId('585d138a3f3dfa10042eaf6c'), ObjectId('585d138a3f3dfa10042eaf6d'), ObjectId('585d138a3f3dfa10042eaf6e'), ObjectId('585d138a3f3dfa10042eaf6f'), ObjectId('585d138a3f3dfa10042eaf70'), ObjectId('585d138a3f3dfa10042eaf71'), ObjectId('585d138a3f3dfa10042eaf72'), ObjectId('585d138a3f3dfa10042eaf73'), ObjectId('585d138a3f3dfa10042eaf74'), ObjectId('585d138a3f3dfa10042eaf75'), ObjectId('585d138a3f3dfa10042eaf76'), ObjectId('585d138a3f3dfa10042eaf77'), ObjectId('585d138a3f3dfa10042eaf78'), ObjectId('585d138a3f3dfa10042eaf79'), ObjectId('585d138a3f3dfa10042eaf7a'), ObjectId('585d138a3f3dfa10042eaf7b'), ObjectId('585d138a3f3dfa10042eaf7c'), ObjectId('585d138a3f3dfa10042eaf7d'), ObjectId('585d138a3f3dfa10042eaf7e'), ObjectId('585d138a3f3dfa10042eaf7f'), ObjectId('585d138a3f3dfa10042eaf80'), ObjectId('585d138a3f3dfa10042eaf81'), ObjectId('585d138a3f3dfa10042eaf82'), ObjectId('585d138a3f3dfa10042eaf83'), ObjectId('585d138a3f3dfa10042eaf84'), ObjectId('585d138a3f3dfa10042eaf85'), ObjectId('585d138a3f3dfa10042eaf86'), ObjectId('585d138a3f3dfa10042eaf87'), ObjectId('585d138a3f3dfa10042eaf88'), ObjectId('585d138a3f3dfa10042eaf89'), ObjectId('585d138a3f3dfa10042eaf8a'), ObjectId('585d138a3f3dfa10042eaf8b'), ObjectId('585d138a3f3dfa10042eaf8c'), ObjectId('585d138a3f3dfa10042eaf8d'), ObjectId('585d138a3f3dfa10042eaf8e'), ObjectId('585d138a3f3dfa10042eaf8f'), ObjectId('585d138a3f3dfa10042eaf90'), ObjectId('585d138a3f3dfa10042eaf91'), ObjectId('585d138a3f3dfa10042eaf92'), ObjectId('585d138a3f3dfa10042eaf93'), ObjectId('585d138a3f3dfa10042eaf94'), ObjectId('585d138a3f3dfa10042eaf95'), ObjectId('585d138a3f3dfa10042eaf96'), ObjectId('585d138a3f3dfa10042eaf97'), ObjectId('585d138a3f3dfa10042eaf98'), ObjectId('585d138a3f3dfa10042eaf99'), ObjectId('585d138a3f3dfa10042eaf9a'), ObjectId('585d138a3f3dfa10042eaf9b'), ObjectId('585d138a3f3dfa10042eaf9c'), ObjectId('585d138a3f3dfa10042eaf9d'), ObjectId('585d138a3f3dfa10042eaf9e'), ObjectId('585d138a3f3dfa10042eaf9f'), ObjectId('585d138a3f3dfa10042eafa0'), ObjectId('585d138a3f3dfa10042eafa1'), ObjectId('585d138a3f3dfa10042eafa2'), ObjectId('585d138a3f3dfa10042eafa3'), ObjectId('585d138a3f3dfa10042eafa4'), ObjectId('585d138a3f3dfa10042eafa5'), ObjectId('585d138a3f3dfa10042eafa6'), ObjectId('585d138a3f3dfa10042eafa7'), ObjectId('585d138a3f3dfa10042eafa8'), ObjectId('585d138a3f3dfa10042eafa9'), ObjectId('585d138a3f3dfa10042eafaa'), ObjectId('585d138a3f3dfa10042eafab'), ObjectId('585d138a3f3dfa10042eafac'), ObjectId('585d138a3f3dfa10042eafad'), ObjectId('585d138a3f3dfa10042eafae'), ObjectId('585d138a3f3dfa10042eafaf'), ObjectId('585d138a3f3dfa10042eafb0'), ObjectId('585d138a3f3dfa10042eafb1'), ObjectId('585d138a3f3dfa10042eafb2'), ObjectId('585d138a3f3dfa10042eafb3'), ObjectId('585d138a3f3dfa10042eafb4'), ObjectId('585d138a3f3dfa10042eafb5'), ObjectId('585d138a3f3dfa10042eafb6'), ObjectId('585d138a3f3dfa10042eafb7'), ObjectId('585d138a3f3dfa10042eafb8'), ObjectId('585d138a3f3dfa10042eafb9'), ObjectId('585d138a3f3dfa10042eafba')]\n"
     ]
    },
    {
     "name": "stderr",
     "output_type": "stream",
     "text": [
      "C:\\Users\\BIG DATA\\Anaconda2\\lib\\site-packages\\ipykernel\\__main__.py:20: DeprecationWarning: insert is deprecated. Use insert_one or insert_many instead.\n"
     ]
    }
   ],
   "source": [
    "from pymongo import *\n",
    "import json\n",
    "\n",
    "with open('C:/Users/BIG DATA/myData/Pingtung385.json','r') as data_file:    \n",
    "    data = json.load(data_file)\n",
    "\n",
    "\n",
    "def get_collection(db):\n",
    "\n",
    "    collection = db['posts']\n",
    "    print collection\n",
    "\n",
    "\n",
    "\n",
    "def insert_mulit_docs(db):\n",
    "\n",
    "#批量插入documents,插入一个数组\n",
    "    posts = db.posts1 ###設定所要建立的collections\n",
    "    post = data\n",
    "    obj_ids = posts.insert(post)\n",
    "    print obj_ids\n",
    "\n",
    "    \n",
    "#建立連接\n",
    "client = MongoClient(\"localhost\", 27017)\n",
    "db = client.test\n",
    "      \n",
    "    \n",
    "insert_mulit_docs(db)\n"
   ]
  },
  {
   "cell_type": "code",
   "execution_count": 153,
   "metadata": {
    "collapsed": false
   },
   "outputs": [
    {
     "name": "stdout",
     "output_type": "stream",
     "text": [
      "Loading: Changhua165.json\n",
      "ok!\n",
      "Loading: Chiayi98.json\n",
      "ok!\n",
      "Loading: Hsinchu5.json\n",
      "ok!\n",
      "Loading: Hualien387.json\n"
     ]
    },
    {
     "name": "stderr",
     "output_type": "stream",
     "text": [
      "C:\\Users\\BIG DATA\\Anaconda2\\lib\\site-packages\\ipykernel\\__main__.py:17: DeprecationWarning: insert is deprecated. Use insert_one or insert_many instead.\n"
     ]
    },
    {
     "name": "stdout",
     "output_type": "stream",
     "text": [
      "ok!\n",
      "Loading: Kaohsiung183.json\n",
      "ok!\n",
      "Loading: Keelung150.json\n",
      "ok!\n",
      "Loading: llan385.json\n",
      "ok!\n",
      "Loading: Miaoli296.json\n",
      "ok!\n",
      "Loading: Nantou410.json\n",
      "ok!\n",
      "Loading: Penghu61.json\n",
      "ok!\n",
      "Loading: Pingtung385.json\n",
      "ok!\n",
      "Loading: Taichung121.json\n",
      "ok!\n",
      "Loading: Tainan96.json\n",
      "ok!\n",
      "Loading: Taipei588.json\n",
      "ok!\n",
      "Loading: Taitung183.json\n",
      "ok!\n",
      "Loading: Taoyuan437.json\n",
      "ok!\n",
      "Loading: Yunlin13.json\n",
      "ok!\n"
     ]
    }
   ],
   "source": [
    "from pymongo import *\n",
    "import json\n",
    "\n",
    "    \n",
    "def get_collection(db):\n",
    "\n",
    "    collection = db['posts']\n",
    "    print collection\n",
    "\n",
    "\n",
    "\n",
    "def insert_mulit_docs(db):\n",
    "\n",
    "#批量插入documents,插入一个数组\n",
    "    posts = db.booking ###設定所要建立的collections\n",
    "    post = data\n",
    "    obj_ids = posts.insert(post)\n",
    "    print \"ok!\"\n",
    "    \n",
    "    \n",
    "        \n",
    "client = MongoClient(\"localhost\", 27017)\n",
    "db = client.project    \n",
    "       \n",
    "\n",
    "DATA_DIR = \"C:\\Users\\BIG DATA\\myData\"\n",
    "file_data = []\n",
    "for filename in os.listdir(DATA_DIR):\n",
    "    print \"Loading: %s\" % filename\n",
    "    loadFile = open(os.path.join(DATA_DIR, filename), 'rb')\n",
    "    data=json.load(loadFile)\n",
    "    insert_mulit_docs(db)\n",
    "    loadFile.close()\n",
    "    \n",
    " "
   ]
  },
  {
   "cell_type": "code",
   "execution_count": 59,
   "metadata": {
    "collapsed": false
   },
   "outputs": [],
   "source": [
    "from pymongo import *\n",
    "import json\n",
    "client = MongoClient(\"localhost\", 27017)\n",
    "db = client['project']\n",
    "collect = db['pttContent']\n",
    "page=[]\n",
    "i=1\n",
    "cursor = db.pttContent.find({'pub_datetime':{'$regex':\"2016\"}},{'_id':0}).limit(210)\n",
    "for doc in cursor:\n",
    "    page.append(doc)\n",
    "    if len(page)==30:\n",
    "        myjson = json.dumps(page,ensure_ascii=False) # This is a unicode string\n",
    "        with open('C:/Users/BIG DATA/myData/pttcontent'+str(i)+'.json', 'w') as f:\n",
    "            f.write(myjson.encode('utf-8')) # encode our unicode string as 'utf-8' for writing out to file\n",
    "        i=i+1\n",
    "        page=[]\n",
    "    \n",
    "# collect.insert_many()\n",
    "#匯入多筆\n",
    "\n",
    "# print collect.find_one()\n",
    "#查詢一筆\n",
    "\n",
    "# print collect.count()\n",
    "#查詢collection的document數量"
   ]
  },
  {
   "cell_type": "code",
   "execution_count": 1,
   "metadata": {
    "collapsed": false
   },
   "outputs": [],
   "source": [
    "from pymongo import *\n",
    "import json\n",
    "client = MongoClient(\"localhost\", 27017)\n",
    "db = client['project']\n",
    "collect = db['pttContent']\n",
    "page=[]\n",
    "i=1\n",
    "cursor=db.pttContent.find({},{'_id':0})\n",
    "for doc in cursor:\n",
    "    page.append(doc)\n",
    "myjson = json.dumps(page,ensure_ascii=False) # This is a unicode string\n",
    "with open('C:/Users/BIG DATA/myData/ptt.json', 'w') as f:\n",
    "    f.write(myjson.encode('utf-8')) # encode our unicode string as 'utf-8' for writing out to file    "
   ]
  },
  {
   "cell_type": "code",
   "execution_count": 64,
   "metadata": {
    "collapsed": false
   },
   "outputs": [
    {
     "name": "stderr",
     "output_type": "stream",
     "text": [
      "C:\\Users\\BIG DATA\\Anaconda2\\lib\\site-packages\\ipykernel\\__main__.py:12: DeprecationWarning: update is deprecated. Use replace_one, update_one or update_many instead.\n"
     ]
    }
   ],
   "source": [
    "from pymongo import *\n",
    "import json\n",
    "client = MongoClient(\"localhost\", 27017)\n",
    "db = client['project']\n",
    "collect = db['pttContents']\n",
    "\n",
    "with open('C:/Users/BIG DATA/myData/ptt.json','r') as data_file:    \n",
    "    data = json.load(data_file)\n",
    "for indx,dic in enumerate(data):\n",
    "    indx=indx+1\n",
    "    dic.update({'_id':indx})\n",
    "    db.pttContents.update({'_id':dic['_id']},dic,True)\n",
    "    \n",
    "# print type(data[0])\n",
    "# data[0].update({'_id':0})\n",
    "# print data[0]\n"
   ]
  },
  {
   "cell_type": "code",
   "execution_count": 17,
   "metadata": {
    "collapsed": false
   },
   "outputs": [
    {
     "name": "stdout",
     "output_type": "stream",
     "text": [
      "(0, '-->', 'red')\n",
      "(1, '-->', 'green')\n",
      "(2, '-->', 'blue')\n",
      "(3, '-->', 'yellow')\n"
     ]
    }
   ],
   "source": [
    "colors = ['red', 'green', 'blue', 'yellow']\n",
    "for i, color in enumerate(colors):\n",
    "    print(i, '-->', color)"
   ]
  },
  {
   "cell_type": "code",
   "execution_count": 58,
   "metadata": {
    "collapsed": false
   },
   "outputs": [
    {
     "name": "stderr",
     "output_type": "stream",
     "text": [
      "C:\\Users\\BIG DATA\\Anaconda2\\lib\\site-packages\\ipykernel\\__main__.py:8: DeprecationWarning: update is deprecated. Use replace_one, update_one or update_many instead.\n"
     ]
    }
   ],
   "source": [
    "from pymongo import *\n",
    "import json\n",
    "client = MongoClient(\"localhost\", 27017)\n",
    "db = client['project']\n",
    "collect = db['pttContents']\n",
    "data = [{\"_id\" : 1, \"foo\" : \"HELLO\"}, {\"_id\" : 2, \"Blah\" : \"Bloh\"}]\n",
    "for d in data:\n",
    "    db.pttContents.update({'_id':d['_id']}, d, True)\n"
   ]
  },
  {
   "cell_type": "code",
   "execution_count": 67,
   "metadata": {
    "collapsed": true
   },
   "outputs": [],
   "source": [
    "from pymongo import *\n",
    "import json\n",
    "client = MongoClient(\"localhost\", 27017)\n",
    "db = client['project']\n",
    "collect = db['pttContents']\n",
    "page=[]\n",
    "\n",
    "cursor=db.pttContents.find({})\n",
    "for doc in cursor:\n",
    "    page.append(doc)\n",
    "myjson = json.dumps(page,ensure_ascii=False) # This is a unicode string\n",
    "with open('C:/Users/BIG DATA/myData/ptt1.json', 'w') as f:\n",
    "    f.write(myjson.encode('utf-8')) # encode our unicode string as 'utf-8' for writing out to file    "
   ]
  }
 ],
 "metadata": {
  "anaconda-cloud": {},
  "kernelspec": {
   "display_name": "Python [default]",
   "language": "python",
   "name": "python2"
  },
  "language_info": {
   "codemirror_mode": {
    "name": "ipython",
    "version": 2
   },
   "file_extension": ".py",
   "mimetype": "text/x-python",
   "name": "python",
   "nbconvert_exporter": "python",
   "pygments_lexer": "ipython2",
   "version": "2.7.12"
  }
 },
 "nbformat": 4,
 "nbformat_minor": 1
}
